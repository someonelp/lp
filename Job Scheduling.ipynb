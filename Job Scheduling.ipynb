{
 "cells": [
  {
   "cell_type": "code",
   "execution_count": 1,
   "id": "2a1ea586",
   "metadata": {},
   "outputs": [
    {
     "name": "stdout",
     "output_type": "stream",
     "text": [
      "Following is maximum profit sequence of jobs\n",
      "['c', 'a', 'e']\n"
     ]
    }
   ],
   "source": [
    "# Python3 code for the above approach\n",
    "\n",
    "# function to schedule the jobs take 2\n",
    "# arguments array and no of jobs to schedule\n",
    "\n",
    "\n",
    "def printJobScheduling(arr, t):\n",
    "\n",
    "\t# length of array\n",
    "\tn = len(arr)\n",
    "\n",
    "\t# Sort all jobs according to\n",
    "\t# decreasing order of profit\n",
    "\tfor i in range(n):\n",
    "\t\tfor j in range(n - 1 - i):\n",
    "\t\t\tif arr[j][2] < arr[j + 1][2]:\n",
    "\t\t\t\tarr[j], arr[j + 1] = arr[j + 1], arr[j]\n",
    "\n",
    "\t# To keep track of free time slots\n",
    "\tresult = [False] * t\n",
    "\n",
    "\t# To store result (Sequence of jobs)\n",
    "\tjob = ['-1'] * t\n",
    "\n",
    "\t# Iterate through all given jobs\n",
    "\tfor i in range(len(arr)):\n",
    "\n",
    "\t\t# Find a free slot for this job\n",
    "\t\t# (Note that we start from the\n",
    "\t\t# last possible slot)\n",
    "\t\tfor j in range(min(t - 1, arr[i][1] - 1), -1, -1):\n",
    "\n",
    "\t\t\t# Free slot found\n",
    "\t\t\tif result[j] is False:\n",
    "\t\t\t\tresult[j] = True\n",
    "\t\t\t\tjob[j] = arr[i][0]\n",
    "\t\t\t\tbreak\n",
    "\n",
    "\t# print the sequence\n",
    "\tprint(job)\n",
    "\n",
    "\n",
    "# Driver's Code\n",
    "if __name__ == '__main__':\n",
    "\tarr = [['a', 2, 100], # Job Array\n",
    "\t\t\t['b', 1, 19],\n",
    "\t\t\t['c', 2, 27],\n",
    "\t\t\t['d', 1, 25],\n",
    "\t\t\t['e', 3, 15]]\n",
    "\n",
    "\n",
    "\tprint(\"Following is maximum profit sequence of jobs\")\n",
    "\n",
    "\t# Function Call\n",
    "\tprintJobScheduling(arr, 3)\n",
    "\n",
    "# This code is contributed\n",
    "# by Anubhav Raj Singh\n"
   ]
  },
  {
   "cell_type": "code",
   "execution_count": null,
   "id": "5cb9f2b8",
   "metadata": {},
   "outputs": [],
   "source": []
  }
 ],
 "metadata": {
  "kernelspec": {
   "display_name": "Python 3 (ipykernel)",
   "language": "python",
   "name": "python3"
  },
  "language_info": {
   "codemirror_mode": {
    "name": "ipython",
    "version": 3
   },
   "file_extension": ".py",
   "mimetype": "text/x-python",
   "name": "python",
   "nbconvert_exporter": "python",
   "pygments_lexer": "ipython3",
   "version": "3.9.7"
  }
 },
 "nbformat": 4,
 "nbformat_minor": 5
}
